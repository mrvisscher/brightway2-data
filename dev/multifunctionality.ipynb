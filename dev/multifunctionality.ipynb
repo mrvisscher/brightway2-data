{
 "cells": [
  {
   "metadata": {},
   "cell_type": "markdown",
   "source": "Set the working directory to the one above to import our bw2data version"
  },
  {
   "metadata": {
    "ExecuteTime": {
     "end_time": "2024-06-24T09:31:38.368405Z",
     "start_time": "2024-06-24T09:31:38.348040Z"
    }
   },
   "cell_type": "code",
   "source": [
    "import os, pathlib\n",
    "os.chdir(pathlib.Path(os.getcwd()).parent.absolute())"
   ],
   "outputs": [],
   "execution_count": 1
  },
  {
   "metadata": {
    "ExecuteTime": {
     "end_time": "2024-06-24T09:31:40.700051Z",
     "start_time": "2024-06-24T09:31:38.368405Z"
    }
   },
   "cell_type": "code",
   "source": [
    "import bw2data as bd\n",
    "import bw2calc as bc"
   ],
   "outputs": [],
   "execution_count": 2
  },
  {
   "metadata": {},
   "cell_type": "markdown",
   "source": "Set-up the project for a clean start"
  },
  {
   "cell_type": "code",
   "metadata": {
    "ExecuteTime": {
     "end_time": "2024-06-24T09:31:40.772248Z",
     "start_time": "2024-06-24T09:31:40.700051Z"
    }
   },
   "source": [
    "from bw2data.backends.schema import ActivityDataset, ExchangeDataset, ProductDataset\n",
    "\n",
    "# set project en clear database\n",
    "bd.projects.set_current(\"MF_TEST\")\n",
    "bd.backends.sqlite3_lci_db.db.drop_tables([ActivityDataset, ProductDataset, ExchangeDataset])\n",
    "bd.backends.sqlite3_lci_db.db.create_tables([ActivityDataset, ProductDataset, ExchangeDataset])"
   ],
   "outputs": [],
   "execution_count": 3
  },
  {
   "metadata": {},
   "cell_type": "markdown",
   "source": "Realy simple ecosystem with a single biosphere flow and a single method for said bioshpere flow"
  },
  {
   "metadata": {
    "ExecuteTime": {
     "end_time": "2024-06-24T09:31:40.902948Z",
     "start_time": "2024-06-24T09:31:40.772248Z"
    }
   },
   "cell_type": "code",
   "source": [
    "# setup a mockup project\n",
    "eco_db = bd.Database(\"eco\")\n",
    "eco_db.write({(\"eco\", \"carbon_dioxide\"): {\"name\": \"carbon_dioxide\", \"type\": \"emission\"}})\n",
    "\n",
    "mthd_0 = bd.Method((\"CO2eq\",))\n",
    "mthd_0.register()\n",
    "mthd_0.write([((\"eco\", \"carbon_dioxide\"), 1)])"
   ],
   "outputs": [
    {
     "name": "stderr",
     "output_type": "stream",
     "text": [
      "100%|██████████| 1/1 [00:00<?, ?it/s]"
     ]
    },
    {
     "name": "stdout",
     "output_type": "stream",
     "text": [
      "Vacuuming database \n"
     ]
    },
    {
     "name": "stderr",
     "output_type": "stream",
     "text": [
      "\n"
     ]
    }
   ],
   "execution_count": 4
  },
  {
   "metadata": {},
   "cell_type": "markdown",
   "source": "Import a simple iron production model with a multifunctional mining process. You can add products using the standard `SQLiteBackend.write` functionality if you use the format described below:"
  },
  {
   "cell_type": "code",
   "metadata": {
    "ExecuteTime": {
     "end_time": "2024-06-24T09:31:41.033284Z",
     "start_time": "2024-06-24T09:31:40.902948Z"
    }
   },
   "source": [
    "model_db = bd.Database(\"model\")\n",
    "model_db.write(\n",
    "    {\n",
    "        (\"model\", \"electricity_production\"): {\n",
    "            \"name\": \"electricity_production\", \n",
    "            \"type\": \"process\", \n",
    "            \"exchanges\": [\n",
    "                {\"input\": (\"eco\", \"carbon_dioxide\"),\"amount\": 1.0, \"type\": \"biosphere\"},\n",
    "                {\"input\": (\"model\", \"coal\"),\"amount\": 1.0, \"type\": \"technosphere\"},\n",
    "                {\"input\": (\"model\", \"iron_smelting\"),\"amount\": 1.0, \"type\": \"technosphere\"},\n",
    "            ]\n",
    "        },\n",
    "        (\"model\", \"mining\"): {\n",
    "            \"name\": \"mining\", \n",
    "            \"type\": \"process\", \n",
    "            \"exchanges\": [\n",
    "                {\"input\": (\"eco\", \"carbon_dioxide\"),\"amount\": 2.0, \"type\": \"biosphere\"},\n",
    "                {\"input\": (\"model\", \"electricity_production\"),\"amount\": 0.02, \"type\": \"technosphere\"},\n",
    "                {\"input\": (\"model\", \"iron_smelting\"),\"amount\": 0.002, \"type\": \"technosphere\"},\n",
    "            ],\n",
    "            \"products\": [\n",
    "                {\"code\": \"coal\", \"name\":\"coal\", \"allocation\": 1.0, \"exchanges\": [\n",
    "                    {\"input\": (\"model\", \"coal\"),\"amount\": 5.0, \"type\": \"production\"},\n",
    "                ]},\n",
    "                {\"code\": \"iron_ore\", \"name\":\"iron_ore\", \"allocation\": 1.0, \"exchanges\": [\n",
    "                    {\"input\": (\"model\", \"iron_ore\"),\"amount\": 5.0, \"type\": \"production\"},\n",
    "                ]},\n",
    "            ]\n",
    "        },\n",
    "        (\"model\", \"iron_smelting\"): {\n",
    "            \"name\": \"iron_smelting\", \n",
    "            \"type\": \"process\", \n",
    "            \"exchanges\": [\n",
    "                {\"input\": (\"eco\", \"carbon_dioxide\"),\"amount\": 1.0, \"type\": \"biosphere\"},\n",
    "                {\"input\": (\"model\", \"iron_ore\"),\"amount\": 2, \"type\": \"technosphere\"},\n",
    "            ]\n",
    "        },\n",
    "    },\n",
    ")"
   ],
   "outputs": [
    {
     "name": "stdout",
     "output_type": "stream",
     "text": [
      "Not able to determine geocollections for all datasets. This database is not ready for regionalization.\n"
     ]
    },
    {
     "name": "stderr",
     "output_type": "stream",
     "text": [
      "100%|██████████| 3/3 [00:00<?, ?it/s]\n"
     ]
    },
    {
     "name": "stdout",
     "output_type": "stream",
     "text": [
      "Vacuuming database \n"
     ]
    }
   ],
   "execution_count": 5
  },
  {
   "metadata": {},
   "cell_type": "markdown",
   "source": "You can also create a product using the Product proxy"
  },
  {
   "cell_type": "code",
   "metadata": {
    "ExecuteTime": {
     "end_time": "2024-06-24T09:31:41.041813Z",
     "start_time": "2024-06-24T09:31:41.033284Z"
    }
   },
   "source": [
    "from bw2data.backends.proxies import Product, Exchange\n",
    "\n",
    "coal = Product(\n",
    "    code = \"coal\",\n",
    "    name = \"coal\",\n",
    "    source_code = \"mining\",\n",
    "    database = \"model\",\n",
    "    allocation = 1\n",
    ")"
   ],
   "outputs": [],
   "execution_count": 6
  },
  {
   "metadata": {},
   "cell_type": "markdown",
   "source": "Perform an LCA containing a multifunctional process"
  },
  {
   "metadata": {
    "ExecuteTime": {
     "end_time": "2024-06-24T09:31:41.726782Z",
     "start_time": "2024-06-24T09:31:41.041813Z"
    }
   },
   "cell_type": "code",
   "source": [
    "act = model_db.get(\"iron_smelting\")\n",
    "lca = bc.LCA({act.key: 1}, (\"CO2eq\",))\n",
    "lca.load_lci_data(True)\n",
    "lca.lci()\n",
    "lca.lcia()\n",
    "lca.score"
   ],
   "outputs": [
    {
     "data": {
      "text/plain": [
       "1.4110305956047413"
      ]
     },
     "execution_count": 7,
     "metadata": {},
     "output_type": "execute_result"
    }
   ],
   "execution_count": 7
  },
  {
   "metadata": {},
   "cell_type": "markdown",
   "source": "Utility: force processing the model database"
  },
  {
   "metadata": {
    "ExecuteTime": {
     "end_time": "2024-06-24T09:31:41.749418Z",
     "start_time": "2024-06-24T09:31:41.726782Z"
    }
   },
   "cell_type": "code",
   "source": [
    "bd.databases.set_dirty(\"model\")\n",
    "model_db.process()"
   ],
   "outputs": [],
   "execution_count": 8
  },
  {
   "metadata": {},
   "cell_type": "markdown",
   "source": "Utility: raw SQL querying"
  },
  {
   "metadata": {
    "ExecuteTime": {
     "end_time": "2024-06-24T09:31:41.788764Z",
     "start_time": "2024-06-24T09:31:41.749418Z"
    }
   },
   "cell_type": "code",
   "source": [
    "SQL = \"\"\"\n",
    "        SELECT \n",
    "            e.data,\n",
    "            CASE WHEN p.matrix_id IS NULL THEN a.matrix_id ELSE p.matrix_id END AS row,\n",
    "            CASE WHEN q.matrix_id IS NULL THEN b.matrix_id ELSE q.matrix_id END as col,\n",
    "            e.input_database, \n",
    "            e.input_code, \n",
    "            e.output_database, \n",
    "            e.output_code,\n",
    "            1 AS allocation            \n",
    "        FROM exchangedataset as e\n",
    "        LEFT JOIN productdataset as p ON p.code == e.input_code AND p.database == e.input_database\n",
    "        LEFT JOIN productdataset as q ON q.code == e.output_code AND q.database == e.output_database\n",
    "        LEFT JOIN activitydataset as a ON a.code == e.input_code AND a.database == e.input_database\n",
    "        LEFT JOIN activitydataset as b ON b.code == e.output_code AND b.database == e.output_database\n",
    "        WHERE \n",
    "            e.output_database = ?\n",
    "            AND e.type IN ('production', 'substitution', 'generic production')\n",
    "\"\"\"\n",
    "\n",
    "import pandas as pd\n",
    "import sqlite3\n",
    "\n",
    "connection = sqlite3.connect(bd.backends.sqlite3_lci_db._filepath)\n",
    "\n",
    "pd.read_sql_query(SQL, connection, params=[\"model\"])"
   ],
   "outputs": [
    {
     "data": {
      "text/plain": [
       "                                                data  row  col input_database  \\\n",
       "0  b'\\x80\\x04\\x95S\\x00\\x00\\x00\\x00\\x00\\x00\\x00}\\x...    5    5          model   \n",
       "1  b'\\x80\\x04\\x95W\\x00\\x00\\x00\\x00\\x00\\x00\\x00}\\x...    6    6          model   \n",
       "\n",
       "  input_code output_database output_code  allocation  \n",
       "0       coal           model        coal           1  \n",
       "1   iron_ore           model    iron_ore           1  "
      ],
      "text/html": [
       "<div>\n",
       "<style scoped>\n",
       "    .dataframe tbody tr th:only-of-type {\n",
       "        vertical-align: middle;\n",
       "    }\n",
       "\n",
       "    .dataframe tbody tr th {\n",
       "        vertical-align: top;\n",
       "    }\n",
       "\n",
       "    .dataframe thead th {\n",
       "        text-align: right;\n",
       "    }\n",
       "</style>\n",
       "<table border=\"1\" class=\"dataframe\">\n",
       "  <thead>\n",
       "    <tr style=\"text-align: right;\">\n",
       "      <th></th>\n",
       "      <th>data</th>\n",
       "      <th>row</th>\n",
       "      <th>col</th>\n",
       "      <th>input_database</th>\n",
       "      <th>input_code</th>\n",
       "      <th>output_database</th>\n",
       "      <th>output_code</th>\n",
       "      <th>allocation</th>\n",
       "    </tr>\n",
       "  </thead>\n",
       "  <tbody>\n",
       "    <tr>\n",
       "      <th>0</th>\n",
       "      <td>b'\\x80\\x04\\x95S\\x00\\x00\\x00\\x00\\x00\\x00\\x00}\\x...</td>\n",
       "      <td>5</td>\n",
       "      <td>5</td>\n",
       "      <td>model</td>\n",
       "      <td>coal</td>\n",
       "      <td>model</td>\n",
       "      <td>coal</td>\n",
       "      <td>1</td>\n",
       "    </tr>\n",
       "    <tr>\n",
       "      <th>1</th>\n",
       "      <td>b'\\x80\\x04\\x95W\\x00\\x00\\x00\\x00\\x00\\x00\\x00}\\x...</td>\n",
       "      <td>6</td>\n",
       "      <td>6</td>\n",
       "      <td>model</td>\n",
       "      <td>iron_ore</td>\n",
       "      <td>model</td>\n",
       "      <td>iron_ore</td>\n",
       "      <td>1</td>\n",
       "    </tr>\n",
       "  </tbody>\n",
       "</table>\n",
       "</div>"
      ]
     },
     "execution_count": 9,
     "metadata": {},
     "output_type": "execute_result"
    }
   ],
   "execution_count": 9
  }
 ],
 "metadata": {
  "kernelspec": {
   "display_name": "bw25",
   "language": "python",
   "name": "python3"
  },
  "language_info": {
   "codemirror_mode": {
    "name": "ipython",
    "version": 3
   },
   "file_extension": ".py",
   "mimetype": "text/x-python",
   "name": "python",
   "nbconvert_exporter": "python",
   "pygments_lexer": "ipython3",
   "version": "3.12.4"
  }
 },
 "nbformat": 4,
 "nbformat_minor": 2
}
